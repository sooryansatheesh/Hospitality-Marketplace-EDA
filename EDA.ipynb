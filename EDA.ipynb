{
 "cells": [
  {
   "cell_type": "markdown",
   "id": "ba70837c",
   "metadata": {},
   "source": [
    "##  Hospitality marketplace dataset EDA"
   ]
  },
  {
   "cell_type": "markdown",
   "id": "a4d7ab4c",
   "metadata": {},
   "source": [
    "### Questions that need to be answered :- \n",
    "-What are guests searching for in the city?\n",
    "\n",
    "-Which inquiries do hosts tend to accept\n",
    "\n",
    "-What gaps exist between guest demand and host supply\n",
    "\n",
    "-Any other information that deepens the understanding of the data"
   ]
  },
  {
   "cell_type": "markdown",
   "id": "2cb39941",
   "metadata": {},
   "source": [
    "## Datasets\n",
    "\n",
    "There are 2 datasets from AirBnB:\n",
    "\n",
    "- **searches.tsv**: Contains a row for each set of searches that a user does for a city\n",
    "- **contacts.tsv**: Contains a row for every time that an assigned visitor makes an inquiry for a stay in a listing in the city.\n",
    "\n",
    "### Searches Dataset\n",
    "\n",
    "The searches dataset contains the following columns:\n",
    "\n",
    "- **ds**: Date of the search.\n",
    "- **id_user**: Alphanumeric user_id.\n",
    "- **ds_checkin**: Date stamp of the check-in date of the search.\n",
    "- **ds_checkout**: Date stamp of the check-out date of the search.\n",
    "- **n_searches**: Number of searches in the search set.\n",
    "- **n_nights**: The number of nights the search was for.\n",
    "- **n_guests_min**: The minimum number of guests selected in a search set.\n",
    "- **n_guests_max**: The maximum number of guests selected in a search set.\n",
    "- **origin_country**: The country the search was from.\n",
    "- **filter_price_min**: The value of the lower bound of the price filter, if the user used it.\n",
    "- **filter_price_max**: The value of the upper bound of the price filter, if the user used it.\n",
    "- **filter_room_types**: The room types that the user filtered by, if the user used the room_types filter.\n",
    "- **filter_neighborhoods**: The neighborhoods types that the user filtered by, if the user used the neighborhoods filter.\n",
    "\n",
    "### Contacts Dataset\n",
    "\n",
    "The contacts dataset contains the following columns:\n",
    "\n",
    "- **id_guest**: Alphanumeric user_id of the guest making the inquiry.\n",
    "- **id_host**: Alphanumeric user_id of the host of the listing to which the inquiry is made.\n",
    "- **id_listing**: Alphanumeric identifier for the listing to which the inquiry is made.\n",
    "- **ts_contact_at**: UTC timestamp of the moment the inquiry is made.\n",
    "- **ts_reply_at**: UTC timestamp of the moment the host replies to the inquiry, if so.\n",
    "- **ts_accepted_at**: UTC timestamp of the moment the host accepts the inquiry, if so.\n",
    "- **ts_booking_at**: UTC timestamp of the moment the booking is made, if so.\n",
    "- **ds_checkin**: Date stamp of the check-in date of the inquiry.\n",
    "- **ds_checkout**: Date stamp of the check-out date of the inquiry.\n",
    "- **n_guests**: The number of guests the inquiry is for.\n",
    "- **n_messages**: The total number of messages that were sent around this inquiry.\n"
   ]
  },
  {
   "cell_type": "code",
   "execution_count": 1,
   "id": "c8fa74ae",
   "metadata": {},
   "outputs": [],
   "source": [
    "import pandas as pd\n",
    "import numpy as np\n",
    "import matplotlib.pyplot as plt\n",
    "import seaborn as sns"
   ]
  },
  {
   "cell_type": "code",
   "execution_count": 2,
   "id": "1b539adf",
   "metadata": {},
   "outputs": [
    {
     "name": "stdout",
     "output_type": "stream",
     "text": [
      "Name: numpy\n",
      "Version: 1.24.3\n",
      "Summary: Fundamental package for array computing in Python\n",
      "Home-page: https://www.numpy.org\n",
      "Author: Travis E. Oliphant et al.\n",
      "Author-email: \n",
      "License: BSD-3-Clause\n",
      "Location: D:\\anaconda3\\envs\\anlp\\Lib\\site-packages\n",
      "Requires: \n",
      "Required-by: blis, Bottleneck, contourpy, gensim, matplotlib, mkl-fft, mkl-random, numexpr, pandas, scikit-learn, scipy, seaborn, spacy, thinc\n",
      "Name: pandas\n",
      "Version: 2.0.3\n",
      "Summary: Powerful data structures for data analysis, time series, and statistics\n",
      "Home-page: \n",
      "Author: \n",
      "Author-email: The Pandas Development Team <pandas-dev@python.org>\n",
      "License: BSD 3-Clause License\n",
      "\n",
      "Copyright (c) 2008-2011, AQR Capital Management, LLC, Lambda Foundry, Inc. and PyData Development Team\n",
      "All rights reserved.\n",
      "\n",
      "Copyright (c) 2011-2023, Open source contributors.\n",
      "\n",
      "Redistribution and use in source and binary forms, with or without\n",
      "modification, are permitted provided that the following conditions are met:\n",
      "\n",
      "* Redistributions of source code must retain the above copyright notice, this\n",
      "  list of conditions and the following disclaimer.\n",
      "\n",
      "* Redistributions in binary form must reproduce the above copyright notice,\n",
      "  this list of conditions and the following disclaimer in the documentation\n",
      "  and/or other materials provided with the distribution.\n",
      "\n",
      "* Neither the name of the copyright holder nor the names of its\n",
      "  contributors may be used to endorse or promote products derived from\n",
      "  this software without specific prior written permission.\n",
      "\n",
      "THIS SOFTWARE IS PROVIDED BY THE COPYRIGHT HOLDERS AND CONTRIBUTORS \"AS IS\"\n",
      "AND ANY EXPRESS OR IMPLIED WARRANTIES, INCLUDING, BUT NOT LIMITED TO, THE\n",
      "IMPLIED WARRANTIES OF MERCHANTABILITY AND FITNESS FOR A PARTICULAR PURPOSE ARE\n",
      "DISCLAIMED. IN NO EVENT SHALL THE COPYRIGHT HOLDER OR CONTRIBUTORS BE LIABLE\n",
      "FOR ANY DIRECT, INDIRECT, INCIDENTAL, SPECIAL, EXEMPLARY, OR CONSEQUENTIAL\n",
      "DAMAGES (INCLUDING, BUT NOT LIMITED TO, PROCUREMENT OF SUBSTITUTE GOODS OR\n",
      "SERVICES; LOSS OF USE, DATA, OR PROFITS; OR BUSINESS INTERRUPTION) HOWEVER\n",
      "CAUSED AND ON ANY THEORY OF LIABILITY, WHETHER IN CONTRACT, STRICT LIABILITY,\n",
      "OR TORT (INCLUDING NEGLIGENCE OR OTHERWISE) ARISING IN ANY WAY OUT OF THE USE\n",
      "OF THIS SOFTWARE, EVEN IF ADVISED OF THE POSSIBILITY OF SUCH DAMAGE.\n",
      "\n",
      "Location: D:\\anaconda3\\envs\\anlp\\Lib\\site-packages\n",
      "Requires: numpy, numpy, python-dateutil, pytz, tzdata\n",
      "Required-by: seaborn\n",
      "Name: matplotlib\n",
      "Version: 3.7.1\n",
      "Summary: Python plotting package\n",
      "Home-page: https://matplotlib.org\n",
      "Author: John D. Hunter, Michael Droettboom\n",
      "Author-email: matplotlib-users@python.org\n",
      "License: PSF\n",
      "Location: D:\\anaconda3\\envs\\anlp\\Lib\\site-packages\n",
      "Requires: contourpy, cycler, fonttools, kiwisolver, numpy, packaging, pillow, pyparsing, python-dateutil\n",
      "Required-by: seaborn\n"
     ]
    }
   ],
   "source": [
    "!pip show numpy\n",
    "!pip show pandas\n",
    "!pip show matplotlib"
   ]
  },
  {
   "cell_type": "markdown",
   "id": "b1e02049",
   "metadata": {},
   "source": [
    "### \"Contacts\" Dataset\n",
    "\n",
    "Will help us in answering \"Which inquiries do hosts tend to accept\""
   ]
  },
  {
   "cell_type": "code",
   "execution_count": 3,
   "id": "8a14a436",
   "metadata": {},
   "outputs": [
    {
     "data": {
      "text/html": [
       "<div>\n",
       "<style scoped>\n",
       "    .dataframe tbody tr th:only-of-type {\n",
       "        vertical-align: middle;\n",
       "    }\n",
       "\n",
       "    .dataframe tbody tr th {\n",
       "        vertical-align: top;\n",
       "    }\n",
       "\n",
       "    .dataframe thead th {\n",
       "        text-align: right;\n",
       "    }\n",
       "</style>\n",
       "<table border=\"1\" class=\"dataframe\">\n",
       "  <thead>\n",
       "    <tr style=\"text-align: right;\">\n",
       "      <th></th>\n",
       "      <th>id_guest</th>\n",
       "      <th>id_host</th>\n",
       "      <th>id_listing</th>\n",
       "      <th>ts_contact_at</th>\n",
       "      <th>ts_reply_at</th>\n",
       "      <th>ts_accepted_at</th>\n",
       "      <th>ts_booking_at</th>\n",
       "      <th>ds_checkin</th>\n",
       "      <th>ds_checkout</th>\n",
       "      <th>n_guests</th>\n",
       "      <th>n_messages</th>\n",
       "    </tr>\n",
       "  </thead>\n",
       "  <tbody>\n",
       "    <tr>\n",
       "      <th>0</th>\n",
       "      <td>000dfad9-459b-4f0b-8310-3d6ab34e4f57</td>\n",
       "      <td>13bb24b8-d432-43a2-9755-5ea11b43bb69</td>\n",
       "      <td>21d2b1a2-fdc3-4b4c-a1f0-0eaf0cc02370</td>\n",
       "      <td>2014-10-04 16:26:28.0</td>\n",
       "      <td>2014-10-04 16:26:28.0</td>\n",
       "      <td>2014-10-04 16:26:28.0</td>\n",
       "      <td>2014-10-04 16:26:28.0</td>\n",
       "      <td>2014-10-13</td>\n",
       "      <td>2014-10-15</td>\n",
       "      <td>2</td>\n",
       "      <td>13</td>\n",
       "    </tr>\n",
       "    <tr>\n",
       "      <th>1</th>\n",
       "      <td>00197051-c6cb-4c3a-99e9-86615b819874</td>\n",
       "      <td>46aa3897-9c00-4d76-ac66-a307593d0675</td>\n",
       "      <td>fb5ed09a-9848-4f2c-b2ef-34deb62164fb</td>\n",
       "      <td>2014-11-04 09:10:03.0</td>\n",
       "      <td>2014-11-04 09:45:50.0</td>\n",
       "      <td>2014-11-04 09:45:50.0</td>\n",
       "      <td>2014-11-04 12:20:46.0</td>\n",
       "      <td>2014-11-27</td>\n",
       "      <td>2014-11-30</td>\n",
       "      <td>1</td>\n",
       "      <td>10</td>\n",
       "    </tr>\n",
       "    <tr>\n",
       "      <th>2</th>\n",
       "      <td>0027538e-aa9e-4a02-8979-b8397e5d4cba</td>\n",
       "      <td>6bbb88ca-db66-48c5-9c4b-862f7706284a</td>\n",
       "      <td>d3871da6-8012-4dc4-b508-c91f2c10c297</td>\n",
       "      <td>2014-10-10 12:02:50.0</td>\n",
       "      <td>2014-10-10 15:07:01.0</td>\n",
       "      <td>NaN</td>\n",
       "      <td>NaN</td>\n",
       "      <td>2014-10-17</td>\n",
       "      <td>2014-10-19</td>\n",
       "      <td>2</td>\n",
       "      <td>3</td>\n",
       "    </tr>\n",
       "    <tr>\n",
       "      <th>3</th>\n",
       "      <td>0027538e-aa9e-4a02-8979-b8397e5d4cba</td>\n",
       "      <td>8772bc85-a9b7-4d85-a52d-41f3620c2912</td>\n",
       "      <td>0d9b5583-8053-4b67-adfe-8c29eb12efed</td>\n",
       "      <td>2014-10-10 15:23:53.0</td>\n",
       "      <td>NaN</td>\n",
       "      <td>NaN</td>\n",
       "      <td>NaN</td>\n",
       "      <td>2014-10-17</td>\n",
       "      <td>2014-10-19</td>\n",
       "      <td>2</td>\n",
       "      <td>2</td>\n",
       "    </tr>\n",
       "    <tr>\n",
       "      <th>4</th>\n",
       "      <td>0027538e-aa9e-4a02-8979-b8397e5d4cba</td>\n",
       "      <td>ac162061-55e2-4072-ac91-2e080f9581f2</td>\n",
       "      <td>ec68e0af-b0f2-42c7-b6f8-d41061c083ff</td>\n",
       "      <td>2014-10-10 15:22:26.0</td>\n",
       "      <td>2014-10-10 15:24:26.0</td>\n",
       "      <td>2014-10-10 15:24:26.0</td>\n",
       "      <td>2014-10-10 15:52:42.0</td>\n",
       "      <td>2014-10-17</td>\n",
       "      <td>2014-10-19</td>\n",
       "      <td>2</td>\n",
       "      <td>14</td>\n",
       "    </tr>\n",
       "  </tbody>\n",
       "</table>\n",
       "</div>"
      ],
      "text/plain": [
       "                               id_guest                               id_host  \\\n",
       "0  000dfad9-459b-4f0b-8310-3d6ab34e4f57  13bb24b8-d432-43a2-9755-5ea11b43bb69   \n",
       "1  00197051-c6cb-4c3a-99e9-86615b819874  46aa3897-9c00-4d76-ac66-a307593d0675   \n",
       "2  0027538e-aa9e-4a02-8979-b8397e5d4cba  6bbb88ca-db66-48c5-9c4b-862f7706284a   \n",
       "3  0027538e-aa9e-4a02-8979-b8397e5d4cba  8772bc85-a9b7-4d85-a52d-41f3620c2912   \n",
       "4  0027538e-aa9e-4a02-8979-b8397e5d4cba  ac162061-55e2-4072-ac91-2e080f9581f2   \n",
       "\n",
       "                             id_listing          ts_contact_at  \\\n",
       "0  21d2b1a2-fdc3-4b4c-a1f0-0eaf0cc02370  2014-10-04 16:26:28.0   \n",
       "1  fb5ed09a-9848-4f2c-b2ef-34deb62164fb  2014-11-04 09:10:03.0   \n",
       "2  d3871da6-8012-4dc4-b508-c91f2c10c297  2014-10-10 12:02:50.0   \n",
       "3  0d9b5583-8053-4b67-adfe-8c29eb12efed  2014-10-10 15:23:53.0   \n",
       "4  ec68e0af-b0f2-42c7-b6f8-d41061c083ff  2014-10-10 15:22:26.0   \n",
       "\n",
       "             ts_reply_at         ts_accepted_at          ts_booking_at  \\\n",
       "0  2014-10-04 16:26:28.0  2014-10-04 16:26:28.0  2014-10-04 16:26:28.0   \n",
       "1  2014-11-04 09:45:50.0  2014-11-04 09:45:50.0  2014-11-04 12:20:46.0   \n",
       "2  2014-10-10 15:07:01.0                    NaN                    NaN   \n",
       "3                    NaN                    NaN                    NaN   \n",
       "4  2014-10-10 15:24:26.0  2014-10-10 15:24:26.0  2014-10-10 15:52:42.0   \n",
       "\n",
       "   ds_checkin ds_checkout  n_guests  n_messages  \n",
       "0  2014-10-13  2014-10-15         2          13  \n",
       "1  2014-11-27  2014-11-30         1          10  \n",
       "2  2014-10-17  2014-10-19         2           3  \n",
       "3  2014-10-17  2014-10-19         2           2  \n",
       "4  2014-10-17  2014-10-19         2          14  "
      ]
     },
     "execution_count": 3,
     "metadata": {},
     "output_type": "execute_result"
    }
   ],
   "source": [
    "# Define the path to the TSV file\n",
    "file_path = 'datasets/contacts.tsv'  \n",
    "\n",
    "# Use pandas to read the CSV file into a DataFrame\n",
    "df_contacts = pd.read_csv(file_path,delimiter='\\t')\n",
    "\n",
    "# Display the first few rows of the DataFrame to verify the data is loaded correctly\n",
    "df_contacts.head()\n"
   ]
  },
  {
   "cell_type": "code",
   "execution_count": 4,
   "id": "00ab7d33",
   "metadata": {},
   "outputs": [
    {
     "data": {
      "text/plain": [
       "(7823, 11)"
      ]
     },
     "execution_count": 4,
     "metadata": {},
     "output_type": "execute_result"
    }
   ],
   "source": [
    "df_contacts.shape"
   ]
  },
  {
   "cell_type": "code",
   "execution_count": 5,
   "id": "9d4c60c7",
   "metadata": {},
   "outputs": [
    {
     "data": {
      "text/plain": [
       "Index(['id_guest', 'id_host', 'id_listing', 'ts_contact_at', 'ts_reply_at',\n",
       "       'ts_accepted_at', 'ts_booking_at', 'ds_checkin', 'ds_checkout',\n",
       "       'n_guests', 'n_messages'],\n",
       "      dtype='object')"
      ]
     },
     "execution_count": 5,
     "metadata": {},
     "output_type": "execute_result"
    }
   ],
   "source": [
    "df_contacts.columns"
   ]
  },
  {
   "cell_type": "code",
   "execution_count": 6,
   "id": "03033e15",
   "metadata": {},
   "outputs": [
    {
     "data": {
      "text/plain": [
       "id_guest          object\n",
       "id_host           object\n",
       "id_listing        object\n",
       "ts_contact_at     object\n",
       "ts_reply_at       object\n",
       "ts_accepted_at    object\n",
       "ts_booking_at     object\n",
       "ds_checkin        object\n",
       "ds_checkout       object\n",
       "n_guests           int64\n",
       "n_messages         int64\n",
       "dtype: object"
      ]
     },
     "execution_count": 6,
     "metadata": {},
     "output_type": "execute_result"
    }
   ],
   "source": [
    "df_contacts.dtypes"
   ]
  },
  {
   "cell_type": "code",
   "execution_count": 7,
   "id": "869bf15f",
   "metadata": {},
   "outputs": [],
   "source": [
    "df_contacts['ts_reply_at']=pd.to_datetime(df_contacts['ts_reply_at'])\n",
    "df_contacts['ts_accepted_at']=pd.to_datetime(df_contacts['ts_accepted_at'])\n",
    "df_contacts['ts_contact_at']=pd.to_datetime(df_contacts['ts_contact_at'])\n",
    "df_contacts['ts_booking_at']=pd.to_datetime(df_contacts['ts_booking_at'])\n",
    "df_contacts['ds_checkin']=pd.to_datetime(df_contacts['ds_checkin'])\n",
    "df_contacts['ds_checkout']=pd.to_datetime(df_contacts['ds_checkout'])\n",
    "\n",
    "\n"
   ]
  },
  {
   "cell_type": "code",
   "execution_count": 8,
   "id": "b513c55e",
   "metadata": {},
   "outputs": [],
   "source": [
    "# we need to now undestand the acceptance of requests\n",
    "df_contacts['ts_accepted_at'].head()\n",
    "#there is nearly more than half of NaN values\n",
    "#Nan is non acceptance and rest is accepted \n",
    "df_contacts['req_accepted'] = np.where(np.isnan(df_contacts['ts_accepted_at']), False, True)"
   ]
  },
  {
   "cell_type": "code",
   "execution_count": 9,
   "id": "1ee2535a",
   "metadata": {},
   "outputs": [
    {
     "data": {
      "text/plain": [
       "id_guest          3283\n",
       "id_host           1184\n",
       "id_listing        1542\n",
       "ts_contact_at     7805\n",
       "ts_reply_at       7207\n",
       "ts_accepted_at    3627\n",
       "ts_booking_at     2174\n",
       "ds_checkin         241\n",
       "ds_checkout        256\n",
       "n_guests            15\n",
       "n_messages          54\n",
       "req_accepted         2\n",
       "dtype: int64"
      ]
     },
     "execution_count": 9,
     "metadata": {},
     "output_type": "execute_result"
    }
   ],
   "source": [
    "df_contacts.nunique()"
   ]
  },
  {
   "cell_type": "code",
   "execution_count": 10,
   "id": "48883a65",
   "metadata": {},
   "outputs": [
    {
     "data": {
      "text/plain": [
       "id_guest             0\n",
       "id_host              0\n",
       "id_listing           0\n",
       "ts_contact_at        0\n",
       "ts_reply_at        604\n",
       "ts_accepted_at    4196\n",
       "ts_booking_at     5649\n",
       "ds_checkin           0\n",
       "ds_checkout          0\n",
       "n_guests             0\n",
       "n_messages           0\n",
       "req_accepted         0\n",
       "dtype: int64"
      ]
     },
     "execution_count": 10,
     "metadata": {},
     "output_type": "execute_result"
    }
   ],
   "source": [
    "df_contacts.isna().sum()"
   ]
  },
  {
   "cell_type": "code",
   "execution_count": 11,
   "id": "42f8a8c2",
   "metadata": {},
   "outputs": [
    {
     "name": "stdout",
     "output_type": "stream",
     "text": [
      "                Percentage of NaN\n",
      "id_guest                     0.00\n",
      "id_host                      0.00\n",
      "id_listing                   0.00\n",
      "ts_contact_at                0.00\n",
      "ts_reply_at                  7.72\n",
      "ts_accepted_at              53.64\n",
      "ts_booking_at               72.21\n",
      "ds_checkin                   0.00\n",
      "ds_checkout                  0.00\n",
      "n_guests                     0.00\n",
      "n_messages                   0.00\n",
      "req_accepted                 0.00\n"
     ]
    }
   ],
   "source": [
    "# Calculate the percentage of rows with NaN values in each column\n",
    "percentage_nan = (df_contacts.isna().mean() * 100).round(2)\n",
    "\n",
    "# Create a new DataFrame with column names as the index\n",
    "percentage_nan_df = pd.DataFrame({'Percentage of NaN': percentage_nan})\n",
    "\n",
    "# Print the DataFrame with column names as the index\n",
    "print(percentage_nan_df)"
   ]
  },
  {
   "cell_type": "code",
   "execution_count": 12,
   "id": "83b2b03f",
   "metadata": {},
   "outputs": [
    {
     "data": {
      "text/plain": [
       "n_guests        2.441468\n",
       "n_messages      3.696440\n",
       "req_accepted    0.145883\n",
       "dtype: float64"
      ]
     },
     "metadata": {},
     "output_type": "display_data"
    }
   ],
   "source": [
    "#Skewness of a dataset needs to be identified to carry out normalization\n",
    "\n",
    "display(df_contacts.skew(axis = 0, numeric_only = True, skipna = True))"
   ]
  },
  {
   "cell_type": "code",
   "execution_count": 13,
   "id": "124e816e",
   "metadata": {},
   "outputs": [
    {
     "name": "stdout",
     "output_type": "stream",
     "text": [
      "0.00204525118241084\n"
     ]
    }
   ],
   "source": [
    "#find the number of cases where the number of guests were more than 10\n",
    "print(len(df_contacts[(df_contacts[\"n_guests\"]>=10) & (df_contacts[\"req_accepted\"]==True)])/len(df_contacts))"
   ]
  },
  {
   "cell_type": "code",
   "execution_count": 14,
   "id": "6ad784d5",
   "metadata": {},
   "outputs": [
    {
     "name": "stdout",
     "output_type": "stream",
     "text": [
      "0.04205547743832289\n"
     ]
    }
   ],
   "source": [
    "#find the number of cases where the number of guests were more than 5\n",
    "print(len(df_contacts[(df_contacts[\"n_guests\"]>=5) & (df_contacts[\"req_accepted\"]==True)])/len(df_contacts))"
   ]
  },
  {
   "cell_type": "code",
   "execution_count": 15,
   "id": "5c735f9c",
   "metadata": {},
   "outputs": [
    {
     "data": {
      "image/png": "[encoded data removed]",
      "text/plain": [
       "<Figure size 500x500 with 1 Axes>"
      ]
     },
     "metadata": {},
     "output_type": "display_data"
    }
   ],
   "source": [
    "# Plotting the distribution of the number of guests for number >=5\n",
    "\n",
    "guest_distri_accepted=df_contacts[(df_contacts[\"n_guests\"]>=5) & (df_contacts[\"req_accepted\"]==True)]\n",
    "sns.displot(x=guest_distri_accepted[\"n_guests\"], color = 'blue')\n",
    "plt.show()"
   ]
  },
  {
   "cell_type": "code",
   "execution_count": 16,
   "id": "7e1d7b54",
   "metadata": {},
   "outputs": [
    {
     "data": {
      "image/png": "[encoded data removed]",
      "text/plain": [
       "<Figure size 605.111x500 with 1 Axes>"
      ]
     },
     "metadata": {},
     "output_type": "display_data"
    }
   ],
   "source": [
    "# Plotting the distribution of the number of guests accepted vs rejected\n",
    "\n",
    "guest_distri=df_contacts[[\"n_guests\",'req_accepted']]\n",
    "sns.displot(guest_distri,x=\"n_guests\", hue = 'req_accepted', multiple=\"dodge\")\n",
    "plt.show()"
   ]
  },
  {
   "cell_type": "code",
   "execution_count": 17,
   "id": "1e538226",
   "metadata": {},
   "outputs": [
    {
     "data": {
      "image/png": "[encoded data removed]",
      "text/plain": [
       "<Figure size 605.111x500 with 1 Axes>"
      ]
     },
     "metadata": {},
     "output_type": "display_data"
    }
   ],
   "source": [
    "# Let us check if guests get rejected more on specific months \n",
    "df_contacts[\"month\"]=df_contacts['ds_checkin'].dt.month\n",
    "sns.displot(df_contacts,x=\"month\", hue = 'req_accepted', multiple=\"dodge\")\n",
    "plt.show()"
   ]
  },
  {
   "cell_type": "code",
   "execution_count": 18,
   "id": "c49d6bc2",
   "metadata": {},
   "outputs": [
    {
     "name": "stdout",
     "output_type": "stream",
     "text": [
      "month\n",
      "1     False\n",
      "2     False\n",
      "3     False\n",
      "4      True\n",
      "5      True\n",
      "6     False\n",
      "7     False\n",
      "8     False\n",
      "9     False\n",
      "10    False\n",
      "11     True\n",
      "12    False\n",
      "Name: more_acceptance, dtype: bool\n"
     ]
    }
   ],
   "source": [
    "table = df_contacts.groupby(['month', 'req_accepted']).size().unstack(fill_value=0)\n",
    "table.rename(columns={True: 'True_col', False: 'False_col'}, inplace=True)\n",
    "\n",
    "table[\"more_acceptance\"]= table['True_col'] > table['False_col']\n",
    "print(table[\"more_acceptance\"])"
   ]
  },
  {
   "cell_type": "markdown",
   "id": "661b9578",
   "metadata": {},
   "source": [
    "We can see that for the months 4,5 and 11, the hosts tend to accept more requests than reject them."
   ]
  },
  {
   "cell_type": "markdown",
   "id": "bd23e2fb",
   "metadata": {},
   "source": [
    "### \"Searches\" Dataset"
   ]
  },
  {
   "cell_type": "code",
   "execution_count": 19,
   "id": "e783de95",
   "metadata": {},
   "outputs": [
    {
     "data": {
      "text/html": [
       "<div>\n",
       "<style scoped>\n",
       "    .dataframe tbody tr th:only-of-type {\n",
       "        vertical-align: middle;\n",
       "    }\n",
       "\n",
       "    .dataframe tbody tr th {\n",
       "        vertical-align: top;\n",
       "    }\n",
       "\n",
       "    .dataframe thead th {\n",
       "        text-align: right;\n",
       "    }\n",
       "</style>\n",
       "<table border=\"1\" class=\"dataframe\">\n",
       "  <thead>\n",
       "    <tr style=\"text-align: right;\">\n",
       "      <th></th>\n",
       "      <th>ds</th>\n",
       "      <th>id_user</th>\n",
       "      <th>ds_checkin</th>\n",
       "      <th>ds_checkout</th>\n",
       "      <th>n_searches</th>\n",
       "      <th>n_nights</th>\n",
       "      <th>n_guests_min</th>\n",
       "      <th>n_guests_max</th>\n",
       "      <th>origin_country</th>\n",
       "      <th>filter_price_min</th>\n",
       "      <th>filter_price_max</th>\n",
       "      <th>filter_room_types</th>\n",
       "      <th>filter_neighborhoods</th>\n",
       "    </tr>\n",
       "  </thead>\n",
       "  <tbody>\n",
       "    <tr>\n",
       "      <th>0</th>\n",
       "      <td>2014-10-01</td>\n",
       "      <td>0000af0a-6f26-4233-9832-27efbfb36148</td>\n",
       "      <td>2014-10-09</td>\n",
       "      <td>2014-10-12</td>\n",
       "      <td>16</td>\n",
       "      <td>3.0</td>\n",
       "      <td>2</td>\n",
       "      <td>2</td>\n",
       "      <td>IE</td>\n",
       "      <td>0.0</td>\n",
       "      <td>67.0</td>\n",
       "      <td>,Entire home/apt,Entire home/apt,Private room,...</td>\n",
       "      <td>NaN</td>\n",
       "    </tr>\n",
       "    <tr>\n",
       "      <th>1</th>\n",
       "      <td>2014-10-01</td>\n",
       "      <td>0000af0a-6f26-4233-9832-27efbfb36148</td>\n",
       "      <td>2014-10-09</td>\n",
       "      <td>2014-10-19</td>\n",
       "      <td>3</td>\n",
       "      <td>10.0</td>\n",
       "      <td>1</td>\n",
       "      <td>2</td>\n",
       "      <td>IE</td>\n",
       "      <td>0.0</td>\n",
       "      <td>67.0</td>\n",
       "      <td>NaN</td>\n",
       "      <td>NaN</td>\n",
       "    </tr>\n",
       "    <tr>\n",
       "      <th>2</th>\n",
       "      <td>2014-10-01</td>\n",
       "      <td>000cd9d3-e05b-4016-9e09-34a6f8ba2fc5</td>\n",
       "      <td>NaN</td>\n",
       "      <td>NaN</td>\n",
       "      <td>1</td>\n",
       "      <td>NaN</td>\n",
       "      <td>1</td>\n",
       "      <td>1</td>\n",
       "      <td>GB</td>\n",
       "      <td>NaN</td>\n",
       "      <td>NaN</td>\n",
       "      <td>NaN</td>\n",
       "      <td>NaN</td>\n",
       "    </tr>\n",
       "    <tr>\n",
       "      <th>3</th>\n",
       "      <td>2014-10-01</td>\n",
       "      <td>000cd9d3-e05b-4016-9e09-34a6f8ba2fc5</td>\n",
       "      <td>2014-11-08</td>\n",
       "      <td>2014-11-10</td>\n",
       "      <td>11</td>\n",
       "      <td>2.0</td>\n",
       "      <td>1</td>\n",
       "      <td>2</td>\n",
       "      <td>GB</td>\n",
       "      <td>NaN</td>\n",
       "      <td>NaN</td>\n",
       "      <td>,Entire home/apt</td>\n",
       "      <td>NaN</td>\n",
       "    </tr>\n",
       "    <tr>\n",
       "      <th>4</th>\n",
       "      <td>2014-10-01</td>\n",
       "      <td>001c04f0-5a94-4ee0-bf5d-3591265256de</td>\n",
       "      <td>NaN</td>\n",
       "      <td>NaN</td>\n",
       "      <td>1</td>\n",
       "      <td>NaN</td>\n",
       "      <td>1</td>\n",
       "      <td>1</td>\n",
       "      <td>IE</td>\n",
       "      <td>NaN</td>\n",
       "      <td>NaN</td>\n",
       "      <td>NaN</td>\n",
       "      <td>NaN</td>\n",
       "    </tr>\n",
       "  </tbody>\n",
       "</table>\n",
       "</div>"
      ],
      "text/plain": [
       "           ds                               id_user  ds_checkin ds_checkout  \\\n",
       "0  2014-10-01  0000af0a-6f26-4233-9832-27efbfb36148  2014-10-09  2014-10-12   \n",
       "1  2014-10-01  0000af0a-6f26-4233-9832-27efbfb36148  2014-10-09  2014-10-19   \n",
       "2  2014-10-01  000cd9d3-e05b-4016-9e09-34a6f8ba2fc5         NaN         NaN   \n",
       "3  2014-10-01  000cd9d3-e05b-4016-9e09-34a6f8ba2fc5  2014-11-08  2014-11-10   \n",
       "4  2014-10-01  001c04f0-5a94-4ee0-bf5d-3591265256de         NaN         NaN   \n",
       "\n",
       "   n_searches  n_nights  n_guests_min  n_guests_max origin_country  \\\n",
       "0          16       3.0             2             2             IE   \n",
       "1           3      10.0             1             2             IE   \n",
       "2           1       NaN             1             1             GB   \n",
       "3          11       2.0             1             2             GB   \n",
       "4           1       NaN             1             1             IE   \n",
       "\n",
       "   filter_price_min  filter_price_max  \\\n",
       "0               0.0              67.0   \n",
       "1               0.0              67.0   \n",
       "2               NaN               NaN   \n",
       "3               NaN               NaN   \n",
       "4               NaN               NaN   \n",
       "\n",
       "                                   filter_room_types filter_neighborhoods  \n",
       "0  ,Entire home/apt,Entire home/apt,Private room,...                  NaN  \n",
       "1                                                NaN                  NaN  \n",
       "2                                                NaN                  NaN  \n",
       "3                                   ,Entire home/apt                  NaN  \n",
       "4                                                NaN                  NaN  "
      ]
     },
     "execution_count": 19,
     "metadata": {},
     "output_type": "execute_result"
    }
   ],
   "source": [
    "# Define the path to the TSV file\n",
    "file_path = 'datasets/searches.tsv'  \n",
    "\n",
    "# Use pandas to read the CSV file into a DataFrame\n",
    "df_searches = pd.read_csv(file_path,delimiter='\\t')\n",
    "\n",
    "# Display the first few rows of the DataFrame to verify the data is loaded correctly\n",
    "df_searches.head()"
   ]
  },
  {
   "cell_type": "code",
   "execution_count": 20,
   "id": "926dc1b3",
   "metadata": {},
   "outputs": [
    {
     "data": {
      "text/plain": [
       "(35737, 13)"
      ]
     },
     "execution_count": 20,
     "metadata": {},
     "output_type": "execute_result"
    }
   ],
   "source": [
    "df_searches.shape"
   ]
  },
  {
   "cell_type": "code",
   "execution_count": 21,
   "id": "3e245f97",
   "metadata": {},
   "outputs": [
    {
     "data": {
      "text/plain": [
       "Index(['ds', 'id_user', 'ds_checkin', 'ds_checkout', 'n_searches', 'n_nights',\n",
       "       'n_guests_min', 'n_guests_max', 'origin_country', 'filter_price_min',\n",
       "       'filter_price_max', 'filter_room_types', 'filter_neighborhoods'],\n",
       "      dtype='object')"
      ]
     },
     "execution_count": 21,
     "metadata": {},
     "output_type": "execute_result"
    }
   ],
   "source": [
    "df_searches.columns"
   ]
  },
  {
   "cell_type": "code",
   "execution_count": 22,
   "id": "bb06462a",
   "metadata": {},
   "outputs": [
    {
     "data": {
      "text/plain": [
       "ds                       object\n",
       "id_user                  object\n",
       "ds_checkin               object\n",
       "ds_checkout              object\n",
       "n_searches                int64\n",
       "n_nights                float64\n",
       "n_guests_min              int64\n",
       "n_guests_max              int64\n",
       "origin_country           object\n",
       "filter_price_min        float64\n",
       "filter_price_max        float64\n",
       "filter_room_types        object\n",
       "filter_neighborhoods     object\n",
       "dtype: object"
      ]
     },
     "execution_count": 22,
     "metadata": {},
     "output_type": "execute_result"
    }
   ],
   "source": [
    "df_searches.dtypes"
   ]
  },
  {
   "cell_type": "code",
   "execution_count": 23,
   "id": "e6307930",
   "metadata": {},
   "outputs": [
    {
     "data": {
      "text/plain": [
       "ds                         14\n",
       "id_user                 18605\n",
       "ds_checkin                385\n",
       "ds_checkout               422\n",
       "n_searches                211\n",
       "n_nights                  207\n",
       "n_guests_min               16\n",
       "n_guests_max               16\n",
       "origin_country            131\n",
       "filter_price_min          268\n",
       "filter_price_max          929\n",
       "filter_room_types         160\n",
       "filter_neighborhoods      270\n",
       "dtype: int64"
      ]
     },
     "execution_count": 23,
     "metadata": {},
     "output_type": "execute_result"
    }
   ],
   "source": [
    "df_searches.nunique()"
   ]
  },
  {
   "cell_type": "code",
   "execution_count": 24,
   "id": "6230e88e",
   "metadata": {},
   "outputs": [
    {
     "data": {
      "text/plain": [
       "[1, 2, 3, 4, 5, 6, 7, 8, 9, 10, 11, 12, 13, 14, 15, 16]"
      ]
     },
     "execution_count": 24,
     "metadata": {},
     "output_type": "execute_result"
    }
   ],
   "source": [
    "sorted(df_searches['n_guests_min'].unique())"
   ]
  },
  {
   "cell_type": "code",
   "execution_count": 25,
   "id": "68903d4b",
   "metadata": {},
   "outputs": [
    {
     "data": {
      "text/plain": [
       "array(['2014-10-01', '2014-10-02', '2014-10-03', '2014-10-04',\n",
       "       '2014-10-05', '2014-10-06', '2014-10-07', '2014-10-08',\n",
       "       '2014-10-09', '2014-10-10', '2014-10-11', '2014-10-12',\n",
       "       '2014-10-13', '2014-10-14'], dtype=object)"
      ]
     },
     "execution_count": 25,
     "metadata": {},
     "output_type": "execute_result"
    }
   ],
   "source": [
    "df_searches['ds'].unique()"
   ]
  },
  {
   "cell_type": "code",
   "execution_count": 26,
   "id": "ec819320",
   "metadata": {},
   "outputs": [],
   "source": [
    "# \"ds\" field needs to be converted to datetime format for insightful analysis\n",
    "df_searches['ds'] = pd.to_datetime(df_searches['ds'])\n",
    "df_searches['ds_checkin'] = pd.to_datetime(df_searches['ds_checkin'])\n",
    "df_searches['ds_checkout'] = pd.to_datetime(df_searches['ds_checkout'])\n",
    "\n",
    "#let us now find out the time available for hosts to prepare for the guests\n",
    "df_searches['prep_days_gap']=df_searches['ds_checkin'] - df_searches['ds']\n",
    "df_searches['month']=df_searches['ds'].dt.month"
   ]
  },
  {
   "cell_type": "code",
   "execution_count": 27,
   "id": "fb03a7ea",
   "metadata": {},
   "outputs": [
    {
     "data": {
      "text/plain": [
       "[1, 2, 3, 4, 5, 6, 7, 8, 9, 10, 11, 12, 13, 14, 15, 16]"
      ]
     },
     "execution_count": 27,
     "metadata": {},
     "output_type": "execute_result"
    }
   ],
   "source": [
    "sorted(df_searches['n_guests_max'].unique())"
   ]
  },
  {
   "cell_type": "code",
   "execution_count": 28,
   "id": "6207f340",
   "metadata": {},
   "outputs": [
    {
     "name": "stdout",
     "output_type": "stream",
     "text": [
      "                      Percentage of NaN\n",
      "ds                                 0.00\n",
      "id_user                            0.00\n",
      "ds_checkin                        33.16\n",
      "ds_checkout                       33.16\n",
      "n_searches                         0.00\n",
      "n_nights                          33.16\n",
      "n_guests_min                       0.00\n",
      "n_guests_max                       0.00\n",
      "origin_country                     0.00\n",
      "filter_price_min                  62.72\n",
      "filter_price_max                  62.72\n",
      "filter_room_types                 54.69\n",
      "filter_neighborhoods              96.23\n",
      "prep_days_gap                     33.16\n",
      "month                              0.00\n"
     ]
    }
   ],
   "source": [
    "# Calculate the percentage of rows with NaN values in each column\n",
    "percentage_nan = (df_searches.isna().mean() * 100).round(2)\n",
    "\n",
    "# Create a new DataFrame with column names as the index\n",
    "percentage_nan_df = pd.DataFrame({'Percentage of NaN': percentage_nan})\n",
    "\n",
    "# Print the DataFrame with column names as the index\n",
    "print(percentage_nan_df)"
   ]
  },
  {
   "cell_type": "markdown",
   "id": "b7c8b0ff",
   "metadata": {},
   "source": [
    "The filter_neighborhoods column with a high NaN value percentage may complicate calculations and need to be dropped.\n"
   ]
  },
  {
   "cell_type": "code",
   "execution_count": 29,
   "id": "387beaee",
   "metadata": {},
   "outputs": [],
   "source": [
    "df_searches = df_searches.drop(columns=['filter_neighborhoods'])"
   ]
  },
  {
   "cell_type": "markdown",
   "id": "369953f5",
   "metadata": {},
   "source": [
    "We can see that two columns are having the same NaN% value, filter_price_min & filter_price_max at 62.72. \n",
    "I will check if NaN is found simultaneously for a row."
   ]
  },
  {
   "cell_type": "code",
   "execution_count": 30,
   "id": "64bde63b",
   "metadata": {},
   "outputs": [
    {
     "name": "stdout",
     "output_type": "stream",
     "text": [
      "Percentage of rows with both cols having NaN is 0.627\n"
     ]
    }
   ],
   "source": [
    "multi_col_nan=df_searches['filter_price_min'].isna() & df_searches['filter_price_max'].isna()\n",
    "multi_col_nan.sum()\n",
    "print(f\"Percentage of rows with both cols having NaN is {multi_col_nan.sum()/len(df_searches):.3f}\")"
   ]
  },
  {
   "cell_type": "markdown",
   "id": "ed6f65f4",
   "metadata": {},
   "source": [
    "So this raises the possibility that the user was not interested in assigning filter values for maximum and minum prices."
   ]
  },
  {
   "cell_type": "markdown",
   "id": "da8a933a",
   "metadata": {},
   "source": [
    "We need to replicate this check with the columns ds_checkin,ds_checkout and n_nights . Since all three have the same percentage of NaN values.\n",
    "First, we check the combination of ds_checkin and ds_checkout"
   ]
  },
  {
   "cell_type": "code",
   "execution_count": 31,
   "id": "e0f7eacd",
   "metadata": {},
   "outputs": [
    {
     "name": "stdout",
     "output_type": "stream",
     "text": [
      "Percentage of rows with both cols having NaN is 0.3316\n"
     ]
    }
   ],
   "source": [
    "multi_col_nan=df_searches['ds_checkin'].isna() & df_searches['ds_checkout'].isna()\n",
    "multi_col_nan.sum()\n",
    "print(f\"Percentage of rows with both cols having NaN is {multi_col_nan.sum()/len(df_searches):.4f}\")"
   ]
  },
  {
   "cell_type": "markdown",
   "id": "f1f3cb4d",
   "metadata": {},
   "source": [
    "Now we will check the combination ofthe three cols namely ds_checkin,ds_checkout and n_nights"
   ]
  },
  {
   "cell_type": "code",
   "execution_count": 32,
   "id": "74387dd6",
   "metadata": {},
   "outputs": [
    {
     "name": "stdout",
     "output_type": "stream",
     "text": [
      "Percentage of rows with three cols having NaN is 0.3316\n"
     ]
    }
   ],
   "source": [
    "multi_col_nan=df_searches['ds_checkin'].isna() & df_searches['ds_checkout'].isna() & df_searches['n_nights'].isna() \n",
    "print(f\"Percentage of rows with three cols having NaN is {multi_col_nan.sum()/len(df_searches):.4f}\")"
   ]
  },
  {
   "cell_type": "markdown",
   "id": "8101903e",
   "metadata": {},
   "source": [
    "This tells us that the same user decided not to check for ds_checkin,ds_checkout and n_nights. \n",
    "We can also extend this to see if the same user decided not to check for filter_price_min & filter_price_max"
   ]
  },
  {
   "cell_type": "code",
   "execution_count": 33,
   "id": "0d42bbd8",
   "metadata": {},
   "outputs": [
    {
     "name": "stdout",
     "output_type": "stream",
     "text": [
      "Percentage of rows with five cols having NaN is 0.2815\n"
     ]
    }
   ],
   "source": [
    "multi_col_nan=df_searches['ds_checkin'].isna() & df_searches['ds_checkout'].isna() & df_searches['n_nights'].isna() & df_searches['filter_price_min'].isna() & df_searches['filter_price_max'].isna()\n",
    "multi_col_nan.sum()\n",
    "print(f\"Percentage of rows with five cols having NaN is {multi_col_nan.sum()/len(df_searches):.4f}\")"
   ]
  },
  {
   "cell_type": "markdown",
   "id": "8963842e",
   "metadata": {},
   "source": [
    "If NaN value represents a situation when the user did not fillup the value during search, we can now the see that in 28.15% of searches the users did not enter values for ds_checkin,ds_checkout,n_nights, filter_price_min and filter_price_max.\n",
    "\n",
    "We can drop these rows. "
   ]
  },
  {
   "cell_type": "code",
   "execution_count": 34,
   "id": "ccc2c969",
   "metadata": {},
   "outputs": [],
   "source": [
    "columns_to_check = [\"ds_checkin\", \"ds_checkout\", \"n_nights\", \"filter_price_min\", \"filter_price_max\"]\n",
    "\n",
    "# Drop rows where all of the specified columns have NaN values\n",
    "df_searches.dropna(subset=columns_to_check, how=\"all\", inplace=True)"
   ]
  },
  {
   "cell_type": "code",
   "execution_count": 35,
   "id": "a8a00094",
   "metadata": {},
   "outputs": [
    {
     "data": {
      "text/plain": [
       "n_searches           6.733477\n",
       "n_nights             9.942364\n",
       "n_guests_min         3.087180\n",
       "n_guests_max         2.831746\n",
       "filter_price_min    11.087745\n",
       "filter_price_max     2.999833\n",
       "month                0.000000\n",
       "dtype: float64"
      ]
     },
     "execution_count": 35,
     "metadata": {},
     "output_type": "execute_result"
    }
   ],
   "source": [
    "#Normal distribution of the dataset needs to be checked using the .skew() function. Since there are NaN values, these rows will be skipped.\n",
    "#the skew() function in pandas provides an estimate of the Fisher-Pearson coefficient of skewness for your data, helping you assess the asymmetry of the data distribution.\n",
    "\n",
    "\n",
    "df_searches.skew(axis = 0, numeric_only = True, skipna = True)"
   ]
  },
  {
   "cell_type": "markdown",
   "id": "816bf2ff",
   "metadata": {},
   "source": [
    "If the skewness value is greater than 0, it indicates that the data distribution is right-skewed. In a right-skewed distribution, the tail on the right side (the larger values) is longer or fatter than the left tail. This means that the majority of data points are concentrated on the left side, and there are some extremely large values on the right side.\n",
    "\n",
    "Data transformations, such as logarithmic, square root, or Box-Cox transformations, can make the data distribution closer to normal."
   ]
  },
  {
   "cell_type": "markdown",
   "id": "ada817a0",
   "metadata": {},
   "source": [
    "Since most of the columns are numeric in this dataset we can sue the .describe() to determine the key statistical values\n"
   ]
  },
  {
   "cell_type": "code",
   "execution_count": 36,
   "id": "9dcd0d55",
   "metadata": {},
   "outputs": [
    {
     "data": {
      "text/html": [
       "<div>\n",
       "<style scoped>\n",
       "    .dataframe tbody tr th:only-of-type {\n",
       "        vertical-align: middle;\n",
       "    }\n",
       "\n",
       "    .dataframe tbody tr th {\n",
       "        vertical-align: top;\n",
       "    }\n",
       "\n",
       "    .dataframe thead th {\n",
       "        text-align: right;\n",
       "    }\n",
       "</style>\n",
       "<table border=\"1\" class=\"dataframe\">\n",
       "  <thead>\n",
       "    <tr style=\"text-align: right;\">\n",
       "      <th></th>\n",
       "      <th>ds</th>\n",
       "      <th>ds_checkin</th>\n",
       "      <th>ds_checkout</th>\n",
       "      <th>n_searches</th>\n",
       "      <th>n_nights</th>\n",
       "      <th>n_guests_min</th>\n",
       "      <th>n_guests_max</th>\n",
       "      <th>filter_price_min</th>\n",
       "      <th>filter_price_max</th>\n",
       "      <th>prep_days_gap</th>\n",
       "      <th>month</th>\n",
       "    </tr>\n",
       "  </thead>\n",
       "  <tbody>\n",
       "    <tr>\n",
       "      <th>count</th>\n",
       "      <td>25677</td>\n",
       "      <td>23888</td>\n",
       "      <td>23888</td>\n",
       "      <td>25677.000000</td>\n",
       "      <td>23888.000000</td>\n",
       "      <td>25677.000000</td>\n",
       "      <td>25677.000000</td>\n",
       "      <td>13322.000000</td>\n",
       "      <td>1.332200e+04</td>\n",
       "      <td>23888</td>\n",
       "      <td>25677.0</td>\n",
       "    </tr>\n",
       "    <tr>\n",
       "      <th>mean</th>\n",
       "      <td>2014-10-07 14:40:08.412197632</td>\n",
       "      <td>2014-11-27 22:42:10.609511168</td>\n",
       "      <td>2014-12-05 14:50:57.468184832</td>\n",
       "      <td>11.214433</td>\n",
       "      <td>7.672765</td>\n",
       "      <td>1.984578</td>\n",
       "      <td>2.398995</td>\n",
       "      <td>8.470200</td>\n",
       "      <td>9.019063e+07</td>\n",
       "      <td>51 days 08:11:53.730743469</td>\n",
       "      <td>10.0</td>\n",
       "    </tr>\n",
       "    <tr>\n",
       "      <th>min</th>\n",
       "      <td>2014-10-01 00:00:00</td>\n",
       "      <td>2014-10-01 00:00:00</td>\n",
       "      <td>2014-10-02 00:00:00</td>\n",
       "      <td>1.000000</td>\n",
       "      <td>0.000000</td>\n",
       "      <td>1.000000</td>\n",
       "      <td>1.000000</td>\n",
       "      <td>0.000000</td>\n",
       "      <td>9.000000e+00</td>\n",
       "      <td>-1 days +00:00:00</td>\n",
       "      <td>10.0</td>\n",
       "    </tr>\n",
       "    <tr>\n",
       "      <th>25%</th>\n",
       "      <td>2014-10-04 00:00:00</td>\n",
       "      <td>2014-10-17 00:00:00</td>\n",
       "      <td>2014-10-23 00:00:00</td>\n",
       "      <td>2.000000</td>\n",
       "      <td>2.000000</td>\n",
       "      <td>1.000000</td>\n",
       "      <td>1.000000</td>\n",
       "      <td>0.000000</td>\n",
       "      <td>8.600000e+01</td>\n",
       "      <td>10 days 00:00:00</td>\n",
       "      <td>10.0</td>\n",
       "    </tr>\n",
       "    <tr>\n",
       "      <th>50%</th>\n",
       "      <td>2014-10-08 00:00:00</td>\n",
       "      <td>2014-11-03 00:00:00</td>\n",
       "      <td>2014-11-09 00:00:00</td>\n",
       "      <td>6.000000</td>\n",
       "      <td>3.000000</td>\n",
       "      <td>1.000000</td>\n",
       "      <td>2.000000</td>\n",
       "      <td>0.000000</td>\n",
       "      <td>1.390000e+02</td>\n",
       "      <td>26 days 00:00:00</td>\n",
       "      <td>10.0</td>\n",
       "    </tr>\n",
       "    <tr>\n",
       "      <th>75%</th>\n",
       "      <td>2014-10-11 00:00:00</td>\n",
       "      <td>2014-12-13 00:00:00</td>\n",
       "      <td>2014-12-24 00:00:00</td>\n",
       "      <td>13.000000</td>\n",
       "      <td>5.000000</td>\n",
       "      <td>2.000000</td>\n",
       "      <td>3.000000</td>\n",
       "      <td>0.000000</td>\n",
       "      <td>3.010000e+02</td>\n",
       "      <td>67 days 00:00:00</td>\n",
       "      <td>10.0</td>\n",
       "    </tr>\n",
       "    <tr>\n",
       "      <th>max</th>\n",
       "      <td>2014-10-14 00:00:00</td>\n",
       "      <td>2016-06-02 00:00:00</td>\n",
       "      <td>2016-08-17 00:00:00</td>\n",
       "      <td>431.000000</td>\n",
       "      <td>399.000000</td>\n",
       "      <td>16.000000</td>\n",
       "      <td>16.000000</td>\n",
       "      <td>1250.000000</td>\n",
       "      <td>1.073742e+09</td>\n",
       "      <td>604 days 00:00:00</td>\n",
       "      <td>10.0</td>\n",
       "    </tr>\n",
       "    <tr>\n",
       "      <th>std</th>\n",
       "      <td>NaN</td>\n",
       "      <td>NaN</td>\n",
       "      <td>NaN</td>\n",
       "      <td>19.105621</td>\n",
       "      <td>21.557614</td>\n",
       "      <td>1.588265</td>\n",
       "      <td>1.885627</td>\n",
       "      <td>53.987679</td>\n",
       "      <td>2.978482e+08</td>\n",
       "      <td>65 days 18:56:19.491940517</td>\n",
       "      <td>0.0</td>\n",
       "    </tr>\n",
       "  </tbody>\n",
       "</table>\n",
       "</div>"
      ],
      "text/plain": [
       "                                  ds                     ds_checkin  \\\n",
       "count                          25677                          23888   \n",
       "mean   2014-10-07 14:40:08.412197632  2014-11-27 22:42:10.609511168   \n",
       "min              2014-10-01 00:00:00            2014-10-01 00:00:00   \n",
       "25%              2014-10-04 00:00:00            2014-10-17 00:00:00   \n",
       "50%              2014-10-08 00:00:00            2014-11-03 00:00:00   \n",
       "75%              2014-10-11 00:00:00            2014-12-13 00:00:00   \n",
       "max              2014-10-14 00:00:00            2016-06-02 00:00:00   \n",
       "std                              NaN                            NaN   \n",
       "\n",
       "                         ds_checkout    n_searches      n_nights  \\\n",
       "count                          23888  25677.000000  23888.000000   \n",
       "mean   2014-12-05 14:50:57.468184832     11.214433      7.672765   \n",
       "min              2014-10-02 00:00:00      1.000000      0.000000   \n",
       "25%              2014-10-23 00:00:00      2.000000      2.000000   \n",
       "50%              2014-11-09 00:00:00      6.000000      3.000000   \n",
       "75%              2014-12-24 00:00:00     13.000000      5.000000   \n",
       "max              2016-08-17 00:00:00    431.000000    399.000000   \n",
       "std                              NaN     19.105621     21.557614   \n",
       "\n",
       "       n_guests_min  n_guests_max  filter_price_min  filter_price_max  \\\n",
       "count  25677.000000  25677.000000      13322.000000      1.332200e+04   \n",
       "mean       1.984578      2.398995          8.470200      9.019063e+07   \n",
       "min        1.000000      1.000000          0.000000      9.000000e+00   \n",
       "25%        1.000000      1.000000          0.000000      8.600000e+01   \n",
       "50%        1.000000      2.000000          0.000000      1.390000e+02   \n",
       "75%        2.000000      3.000000          0.000000      3.010000e+02   \n",
       "max       16.000000     16.000000       1250.000000      1.073742e+09   \n",
       "std        1.588265      1.885627         53.987679      2.978482e+08   \n",
       "\n",
       "                    prep_days_gap    month  \n",
       "count                       23888  25677.0  \n",
       "mean   51 days 08:11:53.730743469     10.0  \n",
       "min             -1 days +00:00:00     10.0  \n",
       "25%              10 days 00:00:00     10.0  \n",
       "50%              26 days 00:00:00     10.0  \n",
       "75%              67 days 00:00:00     10.0  \n",
       "max             604 days 00:00:00     10.0  \n",
       "std    65 days 18:56:19.491940517      0.0  "
      ]
     },
     "execution_count": 36,
     "metadata": {},
     "output_type": "execute_result"
    }
   ],
   "source": [
    "df_searches.describe()"
   ]
  },
  {
   "cell_type": "markdown",
   "id": "09fa54d1",
   "metadata": {},
   "source": [
    "From the table above we can see that people mostly book for 5 nights or less; number of guests is 1-3; and most people set 0 as the minimum price."
   ]
  },
  {
   "cell_type": "markdown",
   "id": "a1af0e93",
   "metadata": {},
   "source": [
    "Let us now check the distribution of values searches by users for the different columns."
   ]
  },
  {
   "cell_type": "code",
   "execution_count": 37,
   "id": "1e8a5d0b",
   "metadata": {},
   "outputs": [
    {
     "data": {
      "image/png": "[encoded data removed]",
      "text/plain": [
       "<Figure size 1000x1200 with 5 Axes>"
      ]
     },
     "metadata": {},
     "output_type": "display_data"
    }
   ],
   "source": [
    "columns_to_plot = [\"n_nights\", \"n_guests_min\", \"n_guests_max\", \"filter_price_min\", \"filter_price_max\"]\n",
    "\n",
    "# Creating subplots for each column\n",
    "fig = plt.figure(figsize=(10, 12))\n",
    "axes = [fig.add_subplot(len(columns_to_plot), 1, i+1) for i in range(len(columns_to_plot))]\n",
    "\n",
    "# Plotting histograms for each column\n",
    "for i, col in enumerate(columns_to_plot):\n",
    "    ax = axes[i]\n",
    "    ax.hist(df_searches[col], bins=50, color='skyblue', edgecolor='black')\n",
    "    ax.set_title(f'Distribution of {col}')\n",
    "    ax.set_xlabel(col)\n",
    "    ax.set_ylabel('Frequency')\n",
    "\n",
    "# Adjusting layout to prevent overlapping titles\n",
    "plt.tight_layout()\n",
    "\n",
    "# Show the plots\n",
    "plt.show()\n"
   ]
  },
  {
   "cell_type": "markdown",
   "id": "f4335004",
   "metadata": {},
   "source": [
    "From the above, we can see that outliers are affecting the dataset. We will now check each column and identify the distribution after removal of outliers"
   ]
  },
  {
   "cell_type": "markdown",
   "id": "885a08ab",
   "metadata": {},
   "source": [
    "### n_nights The number of nights the search was for.\n",
    "\n",
    "We first use the Z-score method to identify outliers and display the remaining "
   ]
  },
  {
   "cell_type": "code",
   "execution_count": 38,
   "id": "d90b0aed",
   "metadata": {},
   "outputs": [
    {
     "data": {
      "image/png": "[encoded data removed]",
      "text/plain": [
       "<Figure size 800x600 with 1 Axes>"
      ]
     },
     "metadata": {},
     "output_type": "display_data"
    }
   ],
   "source": [
    "z_scores = np.abs((df_searches['n_nights'] - df_searches['n_nights'].mean()) / df_searches['n_nights'].std())\n",
    "\n",
    "# We now define a threshold for outliers (e.g., 3 standard deviations)\n",
    "threshold = 3\n",
    "\n",
    "# we then filter the 'n_nights' column to exclude outliers\n",
    "filtered_nights = df_searches['n_nights'][z_scores <= threshold]\n",
    "\n",
    "plt.figure(figsize=(8, 6))\n",
    "plt.hist(filtered_nights, bins=20, edgecolor='k')\n",
    "plt.xlabel(\"Number of Nights\")\n",
    "plt.ylabel(\"Frequency\")\n",
    "plt.title(\"Guest search preference for number of nights\")\n",
    "plt.show()"
   ]
  },
  {
   "cell_type": "markdown",
   "id": "c4d7da90",
   "metadata": {},
   "source": [
    "We now use the InterQuartile Range method to identify and exclude the outliers from the dataset."
   ]
  },
  {
   "cell_type": "code",
   "execution_count": 39,
   "id": "b2ad8547",
   "metadata": {},
   "outputs": [
    {
     "data": {
      "image/png": "[encoded data removed]",
      "text/plain": [
       "<Figure size 800x600 with 1 Axes>"
      ]
     },
     "metadata": {},
     "output_type": "display_data"
    }
   ],
   "source": [
    "Q1 = df_searches['n_nights'].quantile(0.25)\n",
    "Q3 = df_searches['n_nights'].quantile(0.75)\n",
    "IQR = Q3 - Q1\n",
    "\n",
    "# Define lower and upper bounds to identify outliers\n",
    "lower_bound = Q1 - 1.5 * IQR\n",
    "upper_bound = Q3 + 1.5 * IQR\n",
    "\n",
    "filtered_nights = df_searches['n_nights'][(df_searches['n_nights'] >= lower_bound) & (df_searches['n_nights'] <= upper_bound)]\n",
    "\n",
    "plt.figure(figsize=(8, 6))\n",
    "plt.hist(filtered_nights, bins=20, edgecolor='k')\n",
    "plt.xlabel(\"Number of Nights\")\n",
    "plt.ylabel(\"Frequency\")\n",
    "plt.title(\"Guest search preference for number of nights\")\n",
    "plt.show()"
   ]
  },
  {
   "cell_type": "code",
   "execution_count": 40,
   "id": "adf42fed",
   "metadata": {},
   "outputs": [
    {
     "data": {
      "image/png": "[encoded data removed]",
      "text/plain": [
       "<Figure size 1000x600 with 1 Axes>"
      ]
     },
     "metadata": {},
     "output_type": "display_data"
    }
   ],
   "source": [
    "value_counts = df_searches['ds'].value_counts()\n",
    "\n",
    "# Create a bar plot of the counts\n",
    "plt.figure(figsize=(10, 6))\n",
    "value_counts.plot(kind='bar')\n",
    "plt.xlabel(\"Value\")\n",
    "plt.ylabel(\"Count\")\n",
    "plt.title(\"Dates\")\n",
    "plt.xticks(rotation=45)\n",
    "plt.tight_layout()\n",
    "\n",
    "# Show the plot\n",
    "plt.show()"
   ]
  },
  {
   "cell_type": "markdown",
   "id": "adf80026",
   "metadata": {},
   "source": [
    "I want to check which days of the week, maximum search happens. "
   ]
  },
  {
   "cell_type": "code",
   "execution_count": 41,
   "id": "83c3bef2",
   "metadata": {},
   "outputs": [],
   "source": [
    "df_searches['ds'] = pd.to_datetime(df_searches['ds'])\n",
    "df_searches['day_of_week'] = df_searches['ds'].dt.day_name()"
   ]
  },
  {
   "cell_type": "code",
   "execution_count": 42,
   "id": "2af12fd6",
   "metadata": {
    "scrolled": true
   },
   "outputs": [
    {
     "data": {
      "image/png": "[encoded data removed]",
      "text/plain": [
       "<Figure size 1000x600 with 1 Axes>"
      ]
     },
     "metadata": {},
     "output_type": "display_data"
    }
   ],
   "source": [
    "value_counts = df_searches['day_of_week'].value_counts()\n",
    "\n",
    "# Create a bar plot of the counts\n",
    "plt.figure(figsize=(10, 6))\n",
    "value_counts.plot(kind='bar')\n",
    "plt.xlabel(\"Day of the week\")\n",
    "plt.ylabel(\"Count\")\n",
    "plt.title(\"Weekdays\")\n",
    "plt.xticks(rotation=0)\n",
    "plt.tight_layout()\n",
    "\n",
    "# Show the plot\n",
    "plt.show()"
   ]
  },
  {
   "cell_type": "markdown",
   "id": "93794531",
   "metadata": {},
   "source": [
    "We can now observe that people tend to search more in the begining of the week"
   ]
  },
  {
   "cell_type": "code",
   "execution_count": 43,
   "id": "1ce6c3bc",
   "metadata": {},
   "outputs": [
    {
     "data": {
      "text/plain": [
       "[1.0, 2.0, 3.0, 4.0, 5.0, 6.0, 7.0, 10.0, 11.0, nan, 8.0, 9.0, 12.0]"
      ]
     },
     "execution_count": 43,
     "metadata": {},
     "output_type": "execute_result"
    }
   ],
   "source": [
    "# let us now understand in which all months people want to stay\n",
    "filtered_df = df_searches.dropna(subset=['month']).copy()\n",
    "filtered_df['month'] = filtered_df['ds_checkin'].dt.month\n",
    "# print(filtered_df['month'].unique())\n",
    "sorted(filtered_df['month'].unique())"
   ]
  },
  {
   "cell_type": "code",
   "execution_count": 44,
   "id": "d9cb021b",
   "metadata": {},
   "outputs": [
    {
     "data": {
      "image/png": "[encoded data removed]",
      "text/plain": [
       "<Figure size 640x480 with 1 Axes>"
      ]
     },
     "metadata": {},
     "output_type": "display_data"
    }
   ],
   "source": [
    "# sns.displot(x=filtered_df['month'], color = 'blue')\n",
    "sns.countplot(data=filtered_df, x='month')\n",
    "plt.xlabel('Month')\n",
    "# plt.xticks(range(1,13), ['JAN', 'FEB', 'MAR', 'APR', 'MAY', 'JUN', 'JUL', 'AUG', 'SEP', 'OCT', 'NOV', 'DEC'])\n",
    "\n",
    "plt.ylabel('Count')\n",
    "plt.title('Monthly Distribution of Searches')\n",
    "\n",
    "plt.show()"
   ]
  },
  {
   "cell_type": "markdown",
   "id": "68b704a0",
   "metadata": {},
   "source": [
    "Now, let us check the room types being searched.\n"
   ]
  },
  {
   "cell_type": "code",
   "execution_count": 45,
   "id": "d8e07bf6",
   "metadata": {},
   "outputs": [
    {
     "data": {
      "text/plain": [
       "0     ,Entire home/apt,Entire home/apt,Private room,...\n",
       "1                                                   NaN\n",
       "3                                      ,Entire home/apt\n",
       "5                                                   NaN\n",
       "6     Entire home/apt,Entire home/apt,Private room,P...\n",
       "7                                       Entire home/apt\n",
       "8                                       Entire home/apt\n",
       "9                                      ,Entire home/apt\n",
       "10                                                  NaN\n",
       "11                                     ,Entire home/apt\n",
       "13                            ,Shared room,Private room\n",
       "15                                                  NaN\n",
       "16    Entire home/apt,Private room,Shared room,Priva...\n",
       "17                                     ,Entire home/apt\n",
       "18                                                  NaN\n",
       "19                                                  NaN\n",
       "23                                      Entire home/apt\n",
       "24                                      Entire home/apt\n",
       "25                                      Entire home/apt\n",
       "26                                      Entire home/apt\n",
       "Name: filter_room_types, dtype: object"
      ]
     },
     "execution_count": 45,
     "metadata": {},
     "output_type": "execute_result"
    }
   ],
   "source": [
    "df_searches['filter_room_types'].head(20)"
   ]
  },
  {
   "cell_type": "markdown",
   "id": "f3186ec1",
   "metadata": {},
   "source": [
    "We can see that people are searching for multiple types of accomodation in a single search. "
   ]
  },
  {
   "cell_type": "code",
   "execution_count": 46,
   "id": "5b4b59ec",
   "metadata": {},
   "outputs": [],
   "source": [
    "def split_string_or_nan(s):\n",
    "    if isinstance(s, str):\n",
    "        return s.split(\",\")  \n",
    "    else:\n",
    "        return []  # Return an empty list for NaN\n",
    "\n",
    "# We now apply the custom function to create a new column\n",
    "df_searches['room_types_list'] = df_searches['filter_room_types'].apply(split_string_or_nan)\n"
   ]
  },
  {
   "cell_type": "code",
   "execution_count": 47,
   "id": "42009a9d",
   "metadata": {},
   "outputs": [],
   "source": [
    "df_searches['num_room_types'] = df_searches['room_types_list'].apply(len)"
   ]
  },
  {
   "cell_type": "code",
   "execution_count": 48,
   "id": "bdf62b5c",
   "metadata": {},
   "outputs": [
    {
     "data": {
      "text/plain": [
       "count    25677.000000\n",
       "mean         1.178136\n",
       "std          1.357031\n",
       "min          0.000000\n",
       "25%          0.000000\n",
       "50%          1.000000\n",
       "75%          2.000000\n",
       "max         13.000000\n",
       "Name: num_room_types, dtype: float64"
      ]
     },
     "execution_count": 48,
     "metadata": {},
     "output_type": "execute_result"
    }
   ],
   "source": [
    "df_searches['num_room_types'].describe()"
   ]
  },
  {
   "cell_type": "code",
   "execution_count": 49,
   "id": "d3d10cb3",
   "metadata": {},
   "outputs": [
    {
     "data": {
      "text/plain": [
       "['',\n",
       " 'Entire home/apt',\n",
       " 'Entire home/apt',\n",
       " 'Private room',\n",
       " 'Entire home/apt',\n",
       " 'Private room',\n",
       " 'Shared room',\n",
       " 'Entire home/apt',\n",
       " 'Shared room',\n",
       " 'Private room',\n",
       " 'Private room',\n",
       " 'Shared room',\n",
       " 'Shared room']"
      ]
     },
     "execution_count": 49,
     "metadata": {},
     "output_type": "execute_result"
    }
   ],
   "source": [
    "max(df_searches['room_types_list'], key=len)\n",
    "# we found the longest list, which unofrtunately has large number of duplicates"
   ]
  },
  {
   "cell_type": "code",
   "execution_count": 50,
   "id": "71cdaf79",
   "metadata": {},
   "outputs": [],
   "source": [
    "# Remove duplicates and empty spaces from the lists\n",
    "df_searches['room_types_list'] = df_searches['room_types_list'].apply(lambda x: list(set([item.strip() for item in x if item.strip() != \"\"])))\n"
   ]
  },
  {
   "cell_type": "code",
   "execution_count": 51,
   "id": "45dfd2dd",
   "metadata": {},
   "outputs": [
    {
     "data": {
      "text/plain": [
       "['Private room', 'Shared room', 'Entire home/apt']"
      ]
     },
     "execution_count": 51,
     "metadata": {},
     "output_type": "execute_result"
    }
   ],
   "source": [
    "max(df_searches['room_types_list'], key=len)"
   ]
  },
  {
   "cell_type": "code",
   "execution_count": 52,
   "id": "a1378d8e",
   "metadata": {},
   "outputs": [],
   "source": [
    "room_type_dict={}\n",
    "for listroom in df_searches['room_types_list']:\n",
    "    for roomtype in listroom:\n",
    "        if roomtype in room_type_dict:\n",
    "            room_type_dict[roomtype]+=1\n",
    "        else:\n",
    "             room_type_dict[roomtype]=1\n",
    "        "
   ]
  },
  {
   "cell_type": "code",
   "execution_count": 53,
   "id": "05ddc629",
   "metadata": {},
   "outputs": [
    {
     "name": "stdout",
     "output_type": "stream",
     "text": [
      "{'Private room': 5594, 'Entire home/apt': 11750, 'Shared room': 858}\n"
     ]
    }
   ],
   "source": [
    "print(room_type_dict)"
   ]
  },
  {
   "cell_type": "code",
   "execution_count": 54,
   "id": "a50192ff",
   "metadata": {},
   "outputs": [
    {
     "data": {
      "image/png": "[encoded data removed]",
      "text/plain": [
       "<Figure size 800x800 with 1 Axes>"
      ]
     },
     "metadata": {},
     "output_type": "display_data"
    }
   ],
   "source": [
    "accommodation_types = list(room_type_dict.keys())\n",
    "count_values = list(room_type_dict.values())\n",
    "\n",
    "# Creating a pie chart\n",
    "plt.figure(figsize=(8, 8))\n",
    "plt.pie(count_values, labels=accommodation_types, autopct='%1.1f%%', startangle=0)\n",
    "plt.axis('equal')  # Equal aspect ratio ensures that pie is drawn as a circle.\n",
    "\n",
    "# Adding a title\n",
    "plt.title('Accommodation Types Request Distribution')\n",
    "\n",
    "# Showing the plot\n",
    "plt.show()"
   ]
  },
  {
   "cell_type": "markdown",
   "id": "4552da84",
   "metadata": {},
   "source": [
    "## Studying the filter_price_max of df_searches"
   ]
  },
  {
   "cell_type": "code",
   "execution_count": 55,
   "id": "af791ea8",
   "metadata": {},
   "outputs": [
    {
     "name": "stdout",
     "output_type": "stream",
     "text": [
      "7.39182926354325 %\n"
     ]
    }
   ],
   "source": [
    "## Studying the filter_price_max of df_searches\n",
    "\n",
    "# Let us find out in how many searches the filter_price_max was above 500\n",
    "\n",
    "print(len(df_searches[df_searches['filter_price_max'] > 600])/len(df_searches['filter_price_max'])*100, '%')\n"
   ]
  },
  {
   "cell_type": "code",
   "execution_count": 56,
   "id": "6dd25587",
   "metadata": {},
   "outputs": [
    {
     "data": {
      "image/png": "[encoded data removed]",
      "text/plain": [
       "<Figure size 500x500 with 1 Axes>"
      ]
     },
     "metadata": {},
     "output_type": "display_data"
    }
   ],
   "source": [
    "# Plotting the distribution of filter_price_max of df_searches above 500\n",
    "\n",
    "df_searches_pricemaxbelow500=df_searches[df_searches['filter_price_max'] <= 500]\n",
    "\n",
    "sns.displot(x=df_searches_pricemaxbelow500[\"filter_price_max\"], color = 'grey')\n",
    "plt.show()"
   ]
  },
  {
   "cell_type": "markdown",
   "id": "249497ec",
   "metadata": {},
   "source": [
    "So we can now see that most people tend to search for prices in the range surrounding 100."
   ]
  },
  {
   "cell_type": "markdown",
   "id": "15d7b275",
   "metadata": {},
   "source": [
    "## Studying the df_searches['prep_days_gap'] - the gap between the booking day and the checkin day\n",
    "\n",
    "We can understand how early or late people tend to book. "
   ]
  },
  {
   "cell_type": "code",
   "execution_count": 57,
   "id": "53955b2e",
   "metadata": {},
   "outputs": [
    {
     "name": "stdout",
     "output_type": "stream",
     "text": [
      "28.36390544066674 % \n",
      "\n"
     ]
    }
   ],
   "source": [
    "#Percentage of dataset beyond 50 days\n",
    "prep_day_gap_df = df_searches['prep_days_gap'] / np.timedelta64(1, 'D')\n",
    "print(len(prep_day_gap_df[prep_day_gap_df > 50])/len(prep_day_gap_df)*100, '% \\n')"
   ]
  },
  {
   "cell_type": "code",
   "execution_count": 58,
   "id": "a4cc84cf",
   "metadata": {},
   "outputs": [
    {
     "data": {
      "image/png": "[encoded data removed]",
      "text/plain": [
       "<Figure size 500x500 with 1 Axes>"
      ]
     },
     "metadata": {},
     "output_type": "display_data"
    }
   ],
   "source": [
    "# Now we keep only the data points having the gap between the booking day and the checkin day of less than or equal to 50\n",
    "\n",
    "prep_day_gap_df=prep_day_gap_df[prep_day_gap_df<=50]\n",
    "sns.displot(x=prep_day_gap_df, color = 'pink')\n",
    "plt.show()"
   ]
  },
  {
   "cell_type": "markdown",
   "id": "d82d20d0",
   "metadata": {},
   "source": [
    "## Finding out the nationalities of the searchers \n"
   ]
  },
  {
   "cell_type": "code",
   "execution_count": 59,
   "id": "dde4565f",
   "metadata": {},
   "outputs": [
    {
     "data": {
      "text/html": [
       "<div>\n",
       "<style scoped>\n",
       "    .dataframe tbody tr th:only-of-type {\n",
       "        vertical-align: middle;\n",
       "    }\n",
       "\n",
       "    .dataframe tbody tr th {\n",
       "        vertical-align: top;\n",
       "    }\n",
       "\n",
       "    .dataframe thead th {\n",
       "        text-align: right;\n",
       "    }\n",
       "</style>\n",
       "<table border=\"1\" class=\"dataframe\">\n",
       "  <thead>\n",
       "    <tr style=\"text-align: right;\">\n",
       "      <th></th>\n",
       "      <th>num_searches</th>\n",
       "    </tr>\n",
       "    <tr>\n",
       "      <th>origin_country</th>\n",
       "      <th></th>\n",
       "    </tr>\n",
       "  </thead>\n",
       "  <tbody>\n",
       "    <tr>\n",
       "      <th>US</th>\n",
       "      <td>4303</td>\n",
       "    </tr>\n",
       "    <tr>\n",
       "      <th>IE</th>\n",
       "      <td>4097</td>\n",
       "    </tr>\n",
       "    <tr>\n",
       "      <th>GB</th>\n",
       "      <td>3469</td>\n",
       "    </tr>\n",
       "    <tr>\n",
       "      <th>FR</th>\n",
       "      <td>2683</td>\n",
       "    </tr>\n",
       "    <tr>\n",
       "      <th>IT</th>\n",
       "      <td>1746</td>\n",
       "    </tr>\n",
       "    <tr>\n",
       "      <th>DE</th>\n",
       "      <td>1601</td>\n",
       "    </tr>\n",
       "    <tr>\n",
       "      <th>ES</th>\n",
       "      <td>1330</td>\n",
       "    </tr>\n",
       "    <tr>\n",
       "      <th>CA</th>\n",
       "      <td>774</td>\n",
       "    </tr>\n",
       "    <tr>\n",
       "      <th>AU</th>\n",
       "      <td>675</td>\n",
       "    </tr>\n",
       "    <tr>\n",
       "      <th>NL</th>\n",
       "      <td>631</td>\n",
       "    </tr>\n",
       "  </tbody>\n",
       "</table>\n",
       "</div>"
      ],
      "text/plain": [
       "                num_searches\n",
       "origin_country              \n",
       "US                      4303\n",
       "IE                      4097\n",
       "GB                      3469\n",
       "FR                      2683\n",
       "IT                      1746\n",
       "DE                      1601\n",
       "ES                      1330\n",
       "CA                       774\n",
       "AU                       675\n",
       "NL                       631"
      ]
     },
     "execution_count": 59,
     "metadata": {},
     "output_type": "execute_result"
    }
   ],
   "source": [
    "search_nationalities = df_searches.groupby(\"origin_country\").agg({'origin_country' : 'count'})\n",
    "search_nationalities.columns = ['num_searches']\n",
    "\n",
    "search_nationalities = search_nationalities.sort_values('num_searches', ascending = False) \n",
    "#displaying the top 10 nationalities of the searchers\n",
    "search_nationalities.nlargest(10, 'num_searches')"
   ]
  },
  {
   "cell_type": "markdown",
   "id": "0a41dcae",
   "metadata": {},
   "source": [
    "# Merged dataset analysis\n",
    "We now merge the two datasets for further analysis "
   ]
  },
  {
   "cell_type": "code",
   "execution_count": 60,
   "id": "840fb9a8",
   "metadata": {},
   "outputs": [],
   "source": [
    "merged = df_contacts.merge(df_searches, left_on='id_guest', right_on='id_user')"
   ]
  },
  {
   "cell_type": "code",
   "execution_count": 61,
   "id": "4dba7a19",
   "metadata": {},
   "outputs": [
    {
     "data": {
      "text/plain": [
       "Index(['id_guest', 'id_host', 'id_listing', 'ts_contact_at', 'ts_reply_at',\n",
       "       'ts_accepted_at', 'ts_booking_at', 'ds_checkin_x', 'ds_checkout_x',\n",
       "       'n_guests', 'n_messages', 'req_accepted', 'month_x', 'ds', 'id_user',\n",
       "       'ds_checkin_y', 'ds_checkout_y', 'n_searches', 'n_nights',\n",
       "       'n_guests_min', 'n_guests_max', 'origin_country', 'filter_price_min',\n",
       "       'filter_price_max', 'filter_room_types', 'prep_days_gap', 'month_y',\n",
       "       'day_of_week', 'room_types_list', 'num_room_types'],\n",
       "      dtype='object')"
      ]
     },
     "execution_count": 61,
     "metadata": {},
     "output_type": "execute_result"
    }
   ],
   "source": [
    "merged.columns"
   ]
  },
  {
   "cell_type": "code",
   "execution_count": 62,
   "id": "64c94535",
   "metadata": {},
   "outputs": [
    {
     "name": "stdout",
     "output_type": "stream",
     "text": [
      "req_accepted  n_nights  rejected  accepted  accept_ratio\n",
      "0                  0.0         3         3     50.000000\n",
      "1                  1.0      1883      1363     41.990142\n",
      "2                  2.0      2213      1914     46.377514\n",
      "3                  3.0      2369      2015     45.962591\n",
      "4                  4.0      1704      1286     43.010033\n",
      "..                 ...       ...       ...           ...\n",
      "115              245.0         4         2     33.333333\n",
      "116              273.0         4         2     33.333333\n",
      "117              334.0        73         9     10.975610\n",
      "118              357.0         0         2    100.000000\n",
      "119              366.0         4         2     33.333333\n",
      "\n",
      "[120 rows x 4 columns]\n"
     ]
    }
   ],
   "source": [
    "# let us find out the distribution of number of nights searched for accepted/rejected cases\n",
    "# \n",
    "analy_df=merged[[\"n_nights\",\"req_accepted\"]]\n",
    "analy_df=analy_df.dropna()\n",
    "\n",
    "result = analy_df.groupby([\"n_nights\", \"req_accepted\"]).size().unstack(fill_value=0)\n",
    "\n",
    "# Rename the columns for clarity\n",
    "result = result.rename(columns={True: \"accepted\", False: \"rejected\"})\n",
    "\n",
    "# Reset the index for a cleaner structure\n",
    "result.reset_index(inplace=True)\n",
    "result[\"accept_ratio\"]=result[\"accepted\"]*100/(result[\"accepted\"]+result[\"rejected\"])\n",
    "print(result)"
   ]
  },
  {
   "cell_type": "code",
   "execution_count": 63,
   "id": "a3ef50bc",
   "metadata": {},
   "outputs": [
    {
     "name": "stdout",
     "output_type": "stream",
     "text": [
      "req_accepted    rejected  accepted  accept_perc\n",
      "origin_country                                 \n",
      "US                  1835      1716    48.324416\n",
      "GB                  1659      1283    43.609789\n",
      "IT                  1676      1026    37.971873\n",
      "FR                  1382      1221    46.907415\n",
      "IE                  1440      1030    41.700405\n",
      "ES                   892       612    40.691489\n",
      "DE                   654       614    48.422713\n",
      "CA                   464       326    41.265823\n",
      "IN                   651       122    15.782665\n",
      "AU                   270       219    44.785276\n",
      "HR                   317       137    30.176211\n",
      "BR                   242       180    42.654028\n",
      "CH                   207       206    49.878935\n",
      "NL                   203       179    46.858639\n",
      "BE                   154       126    45.000000\n",
      "SG                   105       100    48.780488\n",
      "AT                   121        69    36.315789\n",
      "PT                    85        85    50.000000\n",
      "RU                   111        58    34.319527\n",
      "CR                    74        58    43.939394\n"
     ]
    },
    {
     "data": {
      "image/png": "[encoded data removed]",
      "text/plain": [
       "<Figure size 1000x600 with 1 Axes>"
      ]
     },
     "metadata": {},
     "output_type": "display_data"
    }
   ],
   "source": [
    "#let us find out the distribution of origin countries searched for accepted/rejected cases\n",
    "# \n",
    "analy_df=merged[[\"origin_country\",\"req_accepted\"]]\n",
    "analy_df=analy_df.dropna()\n",
    "\n",
    "result = analy_df.groupby([\"origin_country\", \"req_accepted\"]).size().unstack(fill_value=0)\n",
    "\n",
    "# Rename the columns for clarity\n",
    "result = result.rename(columns={True: \"accepted\", False: \"rejected\"})\n",
    "\n",
    "# Reset the index for a cleaner structure\n",
    "result.reset_index(inplace=True)\n",
    "result[\"accept_perc\"]=result[\"accepted\"]*100/(result[\"accepted\"]+result[\"rejected\"])\n",
    "result=result.set_index(\"origin_country\")\n",
    "result[\"tot\"]=result[\"accepted\"]+result[\"rejected\"]\n",
    "result=result.sort_values(by=[\"tot\",\"accept_perc\"],ascending=[False, False])\n",
    "result.drop(\"tot\",axis=1,inplace=True)\n",
    "top10=result.head(10)\n",
    "print(result.head(20))# \n",
    "\n",
    "plt.figure(figsize=(10, 6))\n",
    "plt.barh(top10.index, top10[\"accept_perc\"], color='skyblue')\n",
    "plt.xlabel(\"Acceptance Percentage\")\n",
    "plt.ylabel(\"Country\")\n",
    "plt.title(\"Top 10 by Acceptance Percentage\")\n",
    "plt.gca().invert_yaxis()  \n",
    "plt.show()"
   ]
  },
  {
   "cell_type": "code",
   "execution_count": 64,
   "id": "e82d22ee",
   "metadata": {},
   "outputs": [
    {
     "data": {
      "text/html": [
       "<div>\n",
       "<style scoped>\n",
       "    .dataframe tbody tr th:only-of-type {\n",
       "        vertical-align: middle;\n",
       "    }\n",
       "\n",
       "    .dataframe tbody tr th {\n",
       "        vertical-align: top;\n",
       "    }\n",
       "\n",
       "    .dataframe thead th {\n",
       "        text-align: right;\n",
       "    }\n",
       "</style>\n",
       "<table border=\"1\" class=\"dataframe\">\n",
       "  <thead>\n",
       "    <tr style=\"text-align: right;\">\n",
       "      <th>req_accepted</th>\n",
       "      <th>rejected</th>\n",
       "      <th>accepted</th>\n",
       "      <th>accept_perc</th>\n",
       "    </tr>\n",
       "    <tr>\n",
       "      <th>origin_country</th>\n",
       "      <th></th>\n",
       "      <th></th>\n",
       "      <th></th>\n",
       "    </tr>\n",
       "  </thead>\n",
       "  <tbody>\n",
       "    <tr>\n",
       "      <th>US</th>\n",
       "      <td>1835</td>\n",
       "      <td>1716</td>\n",
       "      <td>48.324416</td>\n",
       "    </tr>\n",
       "    <tr>\n",
       "      <th>GB</th>\n",
       "      <td>1659</td>\n",
       "      <td>1283</td>\n",
       "      <td>43.609789</td>\n",
       "    </tr>\n",
       "    <tr>\n",
       "      <th>IT</th>\n",
       "      <td>1676</td>\n",
       "      <td>1026</td>\n",
       "      <td>37.971873</td>\n",
       "    </tr>\n",
       "    <tr>\n",
       "      <th>FR</th>\n",
       "      <td>1382</td>\n",
       "      <td>1221</td>\n",
       "      <td>46.907415</td>\n",
       "    </tr>\n",
       "    <tr>\n",
       "      <th>IE</th>\n",
       "      <td>1440</td>\n",
       "      <td>1030</td>\n",
       "      <td>41.700405</td>\n",
       "    </tr>\n",
       "    <tr>\n",
       "      <th>...</th>\n",
       "      <td>...</td>\n",
       "      <td>...</td>\n",
       "      <td>...</td>\n",
       "    </tr>\n",
       "    <tr>\n",
       "      <th>EE</th>\n",
       "      <td>0</td>\n",
       "      <td>1</td>\n",
       "      <td>100.000000</td>\n",
       "    </tr>\n",
       "    <tr>\n",
       "      <th>ET</th>\n",
       "      <td>0</td>\n",
       "      <td>1</td>\n",
       "      <td>100.000000</td>\n",
       "    </tr>\n",
       "    <tr>\n",
       "      <th>RE</th>\n",
       "      <td>0</td>\n",
       "      <td>1</td>\n",
       "      <td>100.000000</td>\n",
       "    </tr>\n",
       "    <tr>\n",
       "      <th>EU</th>\n",
       "      <td>1</td>\n",
       "      <td>0</td>\n",
       "      <td>0.000000</td>\n",
       "    </tr>\n",
       "    <tr>\n",
       "      <th>IM</th>\n",
       "      <td>1</td>\n",
       "      <td>0</td>\n",
       "      <td>0.000000</td>\n",
       "    </tr>\n",
       "  </tbody>\n",
       "</table>\n",
       "<p>72 rows × 3 columns</p>\n",
       "</div>"
      ],
      "text/plain": [
       "req_accepted    rejected  accepted  accept_perc\n",
       "origin_country                                 \n",
       "US                  1835      1716    48.324416\n",
       "GB                  1659      1283    43.609789\n",
       "IT                  1676      1026    37.971873\n",
       "FR                  1382      1221    46.907415\n",
       "IE                  1440      1030    41.700405\n",
       "...                  ...       ...          ...\n",
       "EE                     0         1   100.000000\n",
       "ET                     0         1   100.000000\n",
       "RE                     0         1   100.000000\n",
       "EU                     1         0     0.000000\n",
       "IM                     1         0     0.000000\n",
       "\n",
       "[72 rows x 3 columns]"
      ]
     },
     "execution_count": 64,
     "metadata": {},
     "output_type": "execute_result"
    }
   ],
   "source": [
    "result"
   ]
  }
 ],
 "metadata": {
  "kernelspec": {
   "display_name": "Python 3 (ipykernel)",
   "language": "python",
   "name": "python3"
  },
  "language_info": {
   "codemirror_mode": {
    "name": "ipython",
    "version": 3
   },
   "file_extension": ".py",
   "mimetype": "text/x-python",
   "name": "python",
   "nbconvert_exporter": "python",
   "pygments_lexer": "ipython3",
   "version": "3.11.4"
  }
 },
 "nbformat": 4,
 "nbformat_minor": 5
}
